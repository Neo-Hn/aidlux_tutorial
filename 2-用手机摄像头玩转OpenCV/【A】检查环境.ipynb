{
 "cells": [
  {
   "cell_type": "markdown",
   "id": "2ea57e50",
   "metadata": {},
   "source": [
    "# 检查环境\n",
    "\n",
    "同济子豪兄 2023-7-29"
   ]
  },
  {
   "cell_type": "markdown",
   "id": "84c9b4ad",
   "metadata": {},
   "source": [
    "## OpenCV"
   ]
  },
  {
   "cell_type": "code",
   "execution_count": 5,
   "id": "e3ba756a",
   "metadata": {
    "scrolled": true
   },
   "outputs": [
    {
     "name": "stdout",
     "output_type": "stream",
     "text": [
      "OpenCV 版本 4.5.2\n"
     ]
    }
   ],
   "source": [
    "import cv2\n",
    "print('OpenCV 版本', cv2.__version__)"
   ]
  },
  {
   "cell_type": "markdown",
   "id": "1635cc7a",
   "metadata": {},
   "source": [
    "## 其它工具包"
   ]
  },
  {
   "cell_type": "code",
   "execution_count": 6,
   "id": "f6036949",
   "metadata": {},
   "outputs": [],
   "source": [
    "import numpy as np\n",
    "from cvs import *\n",
    "import matplotlib.pyplot as plt"
   ]
  },
  {
   "cell_type": "code",
   "execution_count": null,
   "id": "54d28fd0",
   "metadata": {},
   "outputs": [],
   "source": []
  }
 ],
 "metadata": {
  "kernelspec": {
   "display_name": "Python 3 (ipykernel)",
   "language": "python",
   "name": "python3"
  },
  "language_info": {
   "codemirror_mode": {
    "name": "ipython",
    "version": 3
   },
   "file_extension": ".py",
   "mimetype": "text/x-python",
   "name": "python",
   "nbconvert_exporter": "python",
   "pygments_lexer": "ipython3",
   "version": "3.7.3"
  }
 },
 "nbformat": 4,
 "nbformat_minor": 5
}
