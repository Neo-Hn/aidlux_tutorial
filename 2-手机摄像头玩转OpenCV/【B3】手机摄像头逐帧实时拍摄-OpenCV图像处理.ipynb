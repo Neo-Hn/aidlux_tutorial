{
 "cells": [
  {
   "cell_type": "markdown",
   "id": "2d39ae18",
   "metadata": {},
   "source": [
    "# 手机摄像头逐帧实时拍摄-OpenCV图像处理\n",
    "\n",
    "同济子豪兄 2023-6-25"
   ]
  },
  {
   "cell_type": "markdown",
   "id": "9b1583e5",
   "metadata": {},
   "source": [
    "## 导入工具包"
   ]
  },
  {
   "cell_type": "code",
   "execution_count": 1,
   "id": "8de9bb2a",
   "metadata": {},
   "outputs": [],
   "source": [
    "import time\n",
    "\n",
    "import cv2\n",
    "\n",
    "from cvs import *"
   ]
  },
  {
   "cell_type": "markdown",
   "id": "54e2de95",
   "metadata": {},
   "source": [
    "## 初始化摄像头"
   ]
  },
  {
   "cell_type": "code",
   "execution_count": 2,
   "id": "81067a1e",
   "metadata": {},
   "outputs": [],
   "source": [
    "# 摄像头ID 0-后置 1-前置\n",
    "Camera_ID = 0"
   ]
  },
  {
   "cell_type": "code",
   "execution_count": 3,
   "id": "1fd0fe7f",
   "metadata": {},
   "outputs": [
    {
     "name": "stderr",
     "output_type": "stream",
     "text": [
      "remi.server      INFO     Started httpserver http://0.0.0.0:62397/\n"
     ]
    },
    {
     "name": "stdout",
     "output_type": "stream",
     "text": [
      "('app runs on port:', 62397)\n",
      "open the cam:0 ...\n"
     ]
    },
    {
     "name": "stderr",
     "output_type": "stream",
     "text": [
      "remi.request     INFO     built UI (path=/)\n",
      "remi.server.ws   INFO     connection established: ('127.0.0.1', 47598)\n",
      "remi.server.ws   INFO     handshake complete\n",
      "remi.server.ws   ERROR    Error managing incoming websocket message\n",
      "Traceback (most recent call last):\n",
      "  File \"/usr/local/lib/python3.7/dist-packages/remi/server.py\", line 162, in read_next_message\n",
      "    length = self.rfile.read(2)\n",
      "  File \"/usr/lib/python3.7/socket.py\", line 589, in readinto\n",
      "    return self._sock.recv_into(b)\n",
      "ConnectionResetError: [Errno 104] Connection reset by peer\n",
      "remi.server.ws   INFO     connection established: ('127.0.0.1', 47650)\n",
      "remi.server.ws   INFO     handshake complete\n"
     ]
    }
   ],
   "source": [
    "cap = cvs.VideoCapture(Camera_ID)"
   ]
  },
  {
   "cell_type": "markdown",
   "id": "45bbd9b3",
   "metadata": {},
   "source": [
    "## 逐帧处理函数（选一个运行）\n",
    "\n",
    "逐帧处理函数，默认不进行任何处理，直接将摄像头捕获的画面写入视频帧"
   ]
  },
  {
   "cell_type": "code",
   "execution_count": 4,
   "id": "7b5ff3fe",
   "metadata": {},
   "outputs": [],
   "source": [
    "# 什么都不做\n",
    "def process_frame(img_bgr):\n",
    "    '''输入BGR格式的 numpy array，输出BGR格式的 numpy array'''\n",
    "    # img_bgr = img_bgr[:,:,::-1] # BGR转RGB\n",
    "    return img_bgr"
   ]
  },
  {
   "cell_type": "code",
   "execution_count": 6,
   "id": "3a5e8207",
   "metadata": {},
   "outputs": [],
   "source": [
    "# Canny 边缘检测\n",
    "def process_frame(img_bgr):\n",
    "    '''输入BGR格式的 numpy array，输出BGR格式的 numpy array'''\n",
    "    img_bgr = cv2.Canny(img_bgr, 100, 200)\n",
    "    img_bgr = np.dstack((img_bgr, img_bgr, img_bgr))\n",
    "    return img_bgr"
   ]
  },
  {
   "cell_type": "code",
   "execution_count": 4,
   "id": "4e0d4288",
   "metadata": {},
   "outputs": [],
   "source": [
    "# Canny 边缘检测 - 写 FPS 数值\n",
    "def process_frame(img_bgr):\n",
    "    '''输入BGR格式的 numpy array，输出BGR格式的 numpy array'''\n",
    "    \n",
    "    # 记录该帧开始处理的时间\n",
    "    start_time = time.time()\n",
    "    \n",
    "    # 逐帧处理操作\n",
    "    img_bgr = cv2.Canny(img_bgr, 100, 200)\n",
    "    img_bgr = np.dstack((img_bgr, img_bgr, img_bgr))\n",
    "    \n",
    "    # 记录该帧处理完毕的时间\n",
    "    end_time = time.time()\n",
    "    # 计算每秒处理图像帧数FPS\n",
    "    FPS = 1/(end_time - start_time)\n",
    "\n",
    "    # 在画面上写字：图片，字符串，左上角坐标，字体，字体大小，颜色，字体粗细\n",
    "    scaler = 1 # 文字大小\n",
    "    FPS_string = 'FPS {:.2f}'.format(FPS) # 写在画面上的字符串\n",
    "    img_bgr = cv2.putText(img_bgr, FPS_string, (50 * scaler, 100 * scaler), cv2.FONT_HERSHEY_SIMPLEX, 1.25 * scaler, (255, 0, 255), 2 * scaler)\n",
    "\n",
    "    return img_bgr"
   ]
  },
  {
   "cell_type": "markdown",
   "id": "d4bee659",
   "metadata": {},
   "source": [
    "## 逐帧实时处理手机摄像头拍摄的画面"
   ]
  },
  {
   "cell_type": "code",
   "execution_count": null,
   "id": "672bc337",
   "metadata": {},
   "outputs": [],
   "source": [
    "while True:\n",
    "    img_bgr = cap.read()\n",
    "    \n",
    "    if img_bgr is None:\n",
    "        continue\n",
    "        \n",
    "    img_bgr = process_frame(img_bgr)\n",
    "    \n",
    "    cvs.imshow(img_bgr)"
   ]
  },
  {
   "cell_type": "markdown",
   "id": "d8c6c8dc",
   "metadata": {},
   "source": [
    "## 点击`重启kernel`关闭摄像头"
   ]
  },
  {
   "cell_type": "code",
   "execution_count": null,
   "id": "74419ea6",
   "metadata": {},
   "outputs": [],
   "source": []
  }
 ],
 "metadata": {
  "kernelspec": {
   "display_name": "Python 3 (ipykernel)",
   "language": "python",
   "name": "python3"
  },
  "language_info": {
   "codemirror_mode": {
    "name": "ipython",
    "version": 3
   },
   "file_extension": ".py",
   "mimetype": "text/x-python",
   "name": "python",
   "nbconvert_exporter": "python",
   "pygments_lexer": "ipython3",
   "version": "3.7.3"
  }
 },
 "nbformat": 4,
 "nbformat_minor": 5
}
