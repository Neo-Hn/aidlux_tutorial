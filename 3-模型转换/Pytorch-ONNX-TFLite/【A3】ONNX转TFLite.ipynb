{
 "cells": [
  {
   "cell_type": "markdown",
   "id": "12aa35b0-8f98-45a2-8318-e51e956823b3",
   "metadata": {},
   "source": [
    "# ONNX转TFLite\n",
    "\n",
    "同济子豪兄 2023-6-25"
   ]
  },
  {
   "cell_type": "markdown",
   "id": "4ad7a3db-1eef-4acf-9eb5-f7a696e203d4",
   "metadata": {},
   "source": [
    "## 安装onnx2tflite工具包"
   ]
  },
  {
   "cell_type": "code",
   "execution_count": 1,
   "id": "a1edaaa9-1b6b-41db-92db-6f8d01d6290d",
   "metadata": {},
   "outputs": [
    {
     "name": "stdout",
     "output_type": "stream",
     "text": [
      "正克隆到 'onnx2tflite'...\n",
      "remote: Enumerating objects: 611, done.\u001b[K\n",
      "remote: Counting objects: 100% (152/152), done.\u001b[K\n",
      "remote: Compressing objects: 100% (30/30), done.\u001b[K\n",
      "remote: Total 611 (delta 131), reused 128 (delta 122), pack-reused 459\u001b[K\n",
      "接收对象中: 100% (611/611), 112.81 KiB | 931.00 KiB/s, 完成.\n",
      "处理 delta 中: 100% (407/407), 完成.\n"
     ]
    }
   ],
   "source": [
    "!git clone https://github.com/MPolaris/onnx2tflite.git"
   ]
  },
  {
   "cell_type": "code",
   "execution_count": 2,
   "id": "d41cdb3f-3ddb-4d5a-85de-57b9207526eb",
   "metadata": {},
   "outputs": [
    {
     "name": "stdout",
     "output_type": "stream",
     "text": [
      "/home/featurize/work/aidlux0625/onnx2tflite\n"
     ]
    }
   ],
   "source": [
    "%cd onnx2tflite"
   ]
  },
  {
   "cell_type": "markdown",
   "id": "a6f55579-4e2b-4537-9b24-c00be2cd153c",
   "metadata": {},
   "source": [
    "## 转换ImageNet1000图像分类模型"
   ]
  },
  {
   "cell_type": "code",
   "execution_count": 3,
   "id": "e7516ecf-0ad1-4f26-b39b-93e10c99f9dc",
   "metadata": {},
   "outputs": [
    {
     "name": "stdout",
     "output_type": "stream",
     "text": [
      "Checking 0/1...\n",
      "INFO:tensorflow:Assets written to: /tmp/tmp5c3myzh3/assets\n",
      "INFO:tensorflow:Assets written to: /tmp/tmp5c3myzh3/assets\n",
      "Estimated count of arithmetic ops: 4.745 G  ops, equivalently 2.373 G  MACs\n",
      "WARNING:absl:Buffer deduplication procedure will be skipped when flatbuffer library is not properly loaded\n",
      "INFO:converter running::tflite model elements' max error is 6.3181E-06, pass, tflite saved in ../ckpt/resnet18_imagenet.tflite\n"
     ]
    }
   ],
   "source": [
    "!python converter.py --weights '../ckpt/resnet18_imagenet.onnx' --outpath '../ckpt' --formats 'tflite'"
   ]
  },
  {
   "cell_type": "markdown",
   "id": "ab4abd27-60a3-4e64-a747-026e95b0b214",
   "metadata": {},
   "source": [
    "## 导出为`resnet18_imagenet.tflite`文件"
   ]
  },
  {
   "cell_type": "markdown",
   "id": "7383ccec-9796-45a4-90a3-049031ed4b77",
   "metadata": {},
   "source": [
    "## 转换30类水果图像分类模型"
   ]
  },
  {
   "cell_type": "code",
   "execution_count": 4,
   "id": "5c767709-e8ca-493d-ba77-c25a0f1b54b6",
   "metadata": {},
   "outputs": [
    {
     "name": "stdout",
     "output_type": "stream",
     "text": [
      "Checking 0/1...\n",
      "INFO:tensorflow:Assets written to: /tmp/tmp1cltg__h/assets\n",
      "INFO:tensorflow:Assets written to: /tmp/tmp1cltg__h/assets\n",
      "Estimated count of arithmetic ops: 4.744 G  ops, equivalently 2.372 G  MACs\n",
      "WARNING:absl:Buffer deduplication procedure will be skipped when flatbuffer library is not properly loaded\n",
      "INFO:converter running::tflite model elements' max error is 4.8876E-06, pass, tflite saved in ../ckpt/resnet18_fruit30.tflite\n"
     ]
    }
   ],
   "source": [
    "!python converter.py --weights '../ckpt/resnet18_fruit30.onnx' --outpath '../ckpt' --formats 'tflite'"
   ]
  },
  {
   "cell_type": "markdown",
   "id": "16aa12dc-8f91-497d-adfe-0aea3863a033",
   "metadata": {},
   "source": [
    "## 导出为`resnet18_fruit30.tflite`文件"
   ]
  },
  {
   "cell_type": "markdown",
   "id": "4ae2ff51-a20d-491e-a506-78598e2f1c62",
   "metadata": {},
   "source": [
    "## 也可直接下载子豪兄准备好的两个tflite模型文件"
   ]
  },
  {
   "cell_type": "code",
   "execution_count": 6,
   "id": "cd34d8b5-48b3-4a58-81be-fc6bc6c08be7",
   "metadata": {},
   "outputs": [],
   "source": [
    "!wget https://zihao-tutorial.obs.cn-east-3.myhuaweicloud.com/aidlux/ckpt/resnet18_imagenet.tflite -P ckpt\n",
    "!wget https://zihao-tutorial.obs.cn-east-3.myhuaweicloud.com/aidlux/ckpt/resnet18_fruit30.tflite -P ckpt"
   ]
  },
  {
   "cell_type": "code",
   "execution_count": null,
   "id": "a3df5b63-c635-4e47-960d-c3f75b252684",
   "metadata": {},
   "outputs": [],
   "source": []
  }
 ],
 "metadata": {
  "kernelspec": {
   "display_name": "Python 3 (ipykernel)",
   "language": "python",
   "name": "python3"
  },
  "language_info": {
   "codemirror_mode": {
    "name": "ipython",
    "version": 3
   },
   "file_extension": ".py",
   "mimetype": "text/x-python",
   "name": "python",
   "nbconvert_exporter": "python",
   "pygments_lexer": "ipython3",
   "version": "3.7.10"
  }
 },
 "nbformat": 4,
 "nbformat_minor": 5
}
