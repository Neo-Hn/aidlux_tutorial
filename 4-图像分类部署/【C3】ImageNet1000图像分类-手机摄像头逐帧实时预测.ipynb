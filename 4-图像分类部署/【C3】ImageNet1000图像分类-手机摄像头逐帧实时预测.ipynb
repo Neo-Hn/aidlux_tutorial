{
 "cells": [
  {
   "cell_type": "markdown",
   "id": "a8cf17cd",
   "metadata": {},
   "source": [
    "# ImageNet1000图像分类-手机摄像头逐帧实时预测\n",
    "\n",
    "同济子豪兄 2023-6-25"
   ]
  },
  {
   "cell_type": "markdown",
   "id": "52da8508",
   "metadata": {},
   "source": [
    "## 导入工具包"
   ]
  },
  {
   "cell_type": "code",
   "execution_count": 1,
   "id": "cf60b574",
   "metadata": {},
   "outputs": [],
   "source": [
    "import cv2\n",
    "\n",
    "from cvs import *\n",
    "\n",
    "import numpy as np\n",
    "\n",
    "import aidlite_gpu"
   ]
  },
  {
   "cell_type": "markdown",
   "id": "d2b4e1b0",
   "metadata": {},
   "source": [
    "## 加载TFLite模型"
   ]
  },
  {
   "cell_type": "code",
   "execution_count": 2,
   "id": "aa27748a",
   "metadata": {},
   "outputs": [],
   "source": [
    "model_path = 'ckpt/resnet18_imagenet.tflite'\n",
    "\n",
    "NUM_CLASS = 1000 # 指定类别个数"
   ]
  },
  {
   "cell_type": "code",
   "execution_count": 3,
   "id": "c2defb07",
   "metadata": {},
   "outputs": [
    {
     "name": "stdout",
     "output_type": "stream",
     "text": [
      "[2023-06-25 15:38:17,462170][/tmp/ipykernel_13378/2808051052.py:1 <module>][DEBUG]:=======init\n"
     ]
    },
    {
     "data": {
      "text/plain": [
       "Result(id=1, result='load model ok!', error=None)"
      ]
     },
     "execution_count": 3,
     "metadata": {},
     "output_type": "execute_result"
    }
   ],
   "source": [
    "aidlite = aidlite_gpu.aidlite()\n",
    "\n",
    "# 模型路径 输入维度 输出维度 线程数 是否开启NNAPI\n",
    "# https://docs.aidlux.com/#/intro/ai/ai-aidlite?id=_4fast_annmodel\n",
    "aidlite.FAST_ANNModel(model_path, [256*256*3*4], [NUM_CLASS*4], 4, 0)"
   ]
  },
  {
   "cell_type": "markdown",
   "id": "3601120f",
   "metadata": {},
   "source": [
    "## 载入类别名称与ID映射表"
   ]
  },
  {
   "cell_type": "code",
   "execution_count": 4,
   "id": "5b350580",
   "metadata": {},
   "outputs": [],
   "source": [
    "# 英文类别名称\n",
    "idx_to_labels = np.load('data_meta/imagenet1000_idx_to_labels_en.npy', allow_pickle=True).item()\n",
    "\n",
    "# 中文类别名称\n",
    "# idx_to_labels = np.load('data_meta/imagenet1000_idx_to_labels_zh.npy', allow_pickle=True).item()"
   ]
  },
  {
   "cell_type": "markdown",
   "id": "7d2d24c6",
   "metadata": {},
   "source": [
    "## 初始化摄像头"
   ]
  },
  {
   "cell_type": "code",
   "execution_count": 5,
   "id": "4f1e92d1",
   "metadata": {},
   "outputs": [],
   "source": [
    "# 摄像头ID 0-后置 1-前置\n",
    "Camera_ID = 0"
   ]
  },
  {
   "cell_type": "code",
   "execution_count": 6,
   "id": "426d2378",
   "metadata": {},
   "outputs": [
    {
     "name": "stdout",
     "output_type": "stream",
     "text": [
      "('app runs on port:', 61654)\n",
      "open the cam:0 ...\n"
     ]
    },
    {
     "name": "stderr",
     "output_type": "stream",
     "text": [
      "remi.server      INFO     Started httpserver http://0.0.0.0:61654/\n"
     ]
    }
   ],
   "source": [
    "cap = cvs.VideoCapture(Camera_ID)"
   ]
  },
  {
   "cell_type": "markdown",
   "id": "d4915120",
   "metadata": {},
   "source": [
    "## 逐帧处理函数"
   ]
  },
  {
   "cell_type": "code",
   "execution_count": 7,
   "id": "a252f2f3",
   "metadata": {},
   "outputs": [],
   "source": [
    "def process_frame(img_bgr):\n",
    "    \n",
    "    # 记录该帧开始处理的时间\n",
    "    start_time = time.time()\n",
    "    \n",
    "    ## 预处理\n",
    "    img_tensor = cv2.resize(img_bgr, (256, 256)) # 尺寸缩放\n",
    "    mean = (0.485, 0.456, 0.406) # 三通道的均值\n",
    "    std = (0.229, 0.224, 0.225) # 三通道的标准差\n",
    "    img_tensor = ((img_tensor / 255) - mean) / std\n",
    "    img_tensor = img_tensor.astype('float32')\n",
    "    \n",
    "    ## 推理预测\n",
    "    aidlite.setInput_Float32(img_tensor) # 装填数据\n",
    "    aidlite.invoke() # 推理预测\n",
    "    result = aidlite.getOutput_Float32() # 获得推理预测结果\n",
    "    \n",
    "    ## 解析预测结果\n",
    "    pred_id = np.argmax(result) # 置信度最高类别 ID\n",
    "    pred_class = idx_to_labels[pred_id] # 置信度最高类别名称\n",
    "    \n",
    "    # 将预测类别名称写在图片上\n",
    "    # 图片，字符串，左上角坐标，字体，字体大小，颜色，字体粗细\n",
    "    img_bgr = cv2.putText(img_bgr, pred_class, (50, 100), cv2.FONT_HERSHEY_SIMPLEX, 1, (255, 0, 0), 2)\n",
    "    \n",
    "    # 记录该帧处理完毕的时间\n",
    "    end_time = time.time()\n",
    "    # 计算每秒处理图像帧数FPS\n",
    "    FPS = 1/(end_time - start_time)\n",
    "    # 在画面上写字：图片，字符串，左上角坐标，字体，字体大小，颜色，字体粗细\n",
    "    FPS_string = 'FPS {:.2f}'.format(FPS) # 写在画面上的字符串\n",
    "    img_output = cv2.putText(img_bgr, FPS_string, (50, 50), cv2.FONT_HERSHEY_SIMPLEX, 1, (0, 0, 255), 2)\n",
    "    \n",
    "    return img_output"
   ]
  },
  {
   "cell_type": "markdown",
   "id": "02653e7c",
   "metadata": {},
   "source": [
    "## 逐帧实时处理手机摄像头拍摄的画面"
   ]
  },
  {
   "cell_type": "code",
   "execution_count": null,
   "id": "563852a8",
   "metadata": {},
   "outputs": [
    {
     "name": "stderr",
     "output_type": "stream",
     "text": [
      "remi.request     INFO     built UI (path=/)\n",
      "remi.server.ws   INFO     connection established: ('127.0.0.1', 42906)\n",
      "remi.server.ws   INFO     handshake complete\n",
      "----------------------------------------\n",
      "Exception happened during processing of request from ('127.0.0.1', 42906)\n",
      "remi.server.ws   INFO     connection established: ('127.0.0.1', 42950)\n",
      "remi.server.ws   INFO     handshake complete\n",
      "Traceback (most recent call last):\n",
      "  File \"/usr/lib/python3.7/socketserver.py\", line 650, in process_request_thread\n",
      "    self.finish_request(request, client_address)\n",
      "  File \"/usr/lib/python3.7/socketserver.py\", line 360, in finish_request\n",
      "    self.RequestHandlerClass(request, client_address, self)\n",
      "  File \"cvs.py\", line 142, in cvs.Aid_Dialog.__init__\n",
      "  File \"/usr/local/lib/python3.7/dist-packages/remi/server.py\", line 324, in __init__\n",
      "    super(App, self).__init__(request, client_address, server)\n",
      "  File \"/usr/lib/python3.7/socketserver.py\", line 720, in __init__\n",
      "    self.handle()\n",
      "  File \"/usr/lib/python3.7/http/aid_server.py\", line 427, in handle\n",
      "    self.handle_one_request()\n",
      "  File \"/usr/lib/python3.7/http/aid_server.py\", line 415, in handle_one_request\n",
      "    method()\n",
      "  File \"/usr/local/lib/python3.7/dist-packages/remi/server.py\", line 592, in do_GET\n",
      "    ws = WebSocketsHandler(self.headers, self.request, self.client_address, self.server)\n",
      "  File \"/usr/local/lib/python3.7/dist-packages/remi/server.py\", line 131, in __init__\n",
      "    socketserver.StreamRequestHandler.__init__(self, request, client_address, server, *args, **kwargs)\n",
      "  File \"/usr/lib/python3.7/socketserver.py\", line 720, in __init__\n",
      "    self.handle()\n",
      "  File \"/usr/local/lib/python3.7/dist-packages/remi/server.py\", line 144, in handle\n",
      "    if self.handshake():\n",
      "  File \"/usr/local/lib/python3.7/dist-packages/remi/server.py\", line 238, in handshake\n",
      "    clients[self.session].websocket_handshake_done(self)\n",
      "  File \"/usr/local/lib/python3.7/dist-packages/remi/server.py\", line 480, in websocket_handshake_done\n",
      "    ws_instance_to_update.send_message(msg)\n",
      "  File \"/usr/local/lib/python3.7/dist-packages/remi/server.py\", line 209, in send_message\n",
      "    self.request.sendall(out)\n",
      "BrokenPipeError: [Errno 32] Broken pipe\n",
      "----------------------------------------\n",
      "remi.server.ws   INFO     connection established: ('10.1.101.18', 57705)\n",
      "remi.server.ws   INFO     handshake complete\n"
     ]
    }
   ],
   "source": [
    "while True:\n",
    "    \n",
    "    img_bgr = cap.read()\n",
    "    \n",
    "    if img_bgr is None: # 如果拍摄到的图像为空，则跳过当前帧，重新拍摄\n",
    "        continue\n",
    "    else:\n",
    "        img_output = process_frame(img_bgr)\n",
    "        cvs.imshow(img_output)"
   ]
  },
  {
   "cell_type": "markdown",
   "id": "28b346e2",
   "metadata": {},
   "source": [
    "## 点击`重启kernel`关闭摄像头"
   ]
  },
  {
   "cell_type": "code",
   "execution_count": null,
   "id": "836cc4e6",
   "metadata": {},
   "outputs": [],
   "source": []
  }
 ],
 "metadata": {
  "kernelspec": {
   "display_name": "Python 3 (ipykernel)",
   "language": "python",
   "name": "python3"
  },
  "language_info": {
   "codemirror_mode": {
    "name": "ipython",
    "version": 3
   },
   "file_extension": ".py",
   "mimetype": "text/x-python",
   "name": "python",
   "nbconvert_exporter": "python",
   "pygments_lexer": "ipython3",
   "version": "3.7.3"
  }
 },
 "nbformat": 4,
 "nbformat_minor": 5
}
