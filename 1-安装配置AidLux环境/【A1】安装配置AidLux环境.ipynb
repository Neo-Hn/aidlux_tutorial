{
 "cells": [
  {
   "cell_type": "markdown",
   "id": "f9b884fe-aed6-418c-a1c0-57bf8a8fb9d2",
   "metadata": {},
   "source": [
    "# 安装配置AidLux环境\n",
    "\n",
    "同济子豪兄 2023-6-25"
   ]
  },
  {
   "cell_type": "markdown",
   "id": "d78ed792-ceb4-469a-8401-0ff9bb96643e",
   "metadata": {},
   "source": [
    "## 官方文档\n",
    "\n",
    "https://docs.aidlux.com"
   ]
  },
  {
   "cell_type": "markdown",
   "id": "58e82ce5-8291-407a-920d-c74c3d4737c6",
   "metadata": {},
   "source": [
    "## 第一步：手机应用市场下载AidLux"
   ]
  },
  {
   "cell_type": "markdown",
   "id": "5a8c32f6-05a7-48a9-83af-55e2814810da",
   "metadata": {},
   "source": [
    "## 第二步：启动AidLux桌面环境\n",
    "\n",
    "- 重新安装或升级AidLux桌面\n",
    "\n",
    "```shell\n",
    "aid install aid-desktop\n",
    "```\n",
    "- 远程访问-远程访问图形桌面\n",
    "点击`Cloud_ip`，在电脑浏览器中输入网址，远程访问Aid桌面\n",
    "第一个链接是本地热点地址，如果该手机开启了WIFI热点，连接该手机WIFI热点的设备可以访问\n",
    "第二个链接是局域网地址，和该手机连接同一个WIFI的设备可以访问\n",
    "- 远程访问-ssh\n",
    "在电脑命令行中输入\n",
    "\n",
    "```shell\n",
    "ssh root@10.1.101.131 -p 9022\n",
    "```\n",
    "\n",
    "- 远程传输文件\n",
    "电脑浏览器中输入\n",
    "`http://10.1.101.131:38080`\n",
    "\n",
    "- 安装Jupyter \n",
    "应用中心-Jupyter-安装\n",
    "打开Jupyter notebook\n",
    "在手机命令行中输入\n",
    "```shell\n",
    "jupyter notebook --allow-root\n",
    "```\n",
    "在电脑浏览器中输入\n",
    "`10.1.101.131:10000`\n"
   ]
  },
  {
   "cell_type": "markdown",
   "id": "6b4d5a08-3837-4977-a1d2-67037f8993d5",
   "metadata": {},
   "source": [
    "## 第三步：玩转自带的例子"
   ]
  },
  {
   "cell_type": "code",
   "execution_count": null,
   "id": "bad48744-85df-44eb-abce-f3e9810a6dab",
   "metadata": {},
   "outputs": [],
   "source": []
  }
 ],
 "metadata": {
  "kernelspec": {
   "display_name": "Python 3 (ipykernel)",
   "language": "python",
   "name": "python3"
  },
  "language_info": {
   "codemirror_mode": {
    "name": "ipython",
    "version": 3
   },
   "file_extension": ".py",
   "mimetype": "text/x-python",
   "name": "python",
   "nbconvert_exporter": "python",
   "pygments_lexer": "ipython3",
   "version": "3.7.10"
  }
 },
 "nbformat": 4,
 "nbformat_minor": 5
}
