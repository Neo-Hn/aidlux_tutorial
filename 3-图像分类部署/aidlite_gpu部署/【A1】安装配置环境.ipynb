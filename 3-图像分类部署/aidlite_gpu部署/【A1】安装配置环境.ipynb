{
 "cells": [
  {
   "cell_type": "markdown",
   "id": "c68bbc75-16e4-44dd-bd08-7745662b150e",
   "metadata": {},
   "source": [
    "# 安装配置环境\n",
    "\n",
    "同济子豪兄 2023-6-25\n",
    "\n",
    "推荐代码运行[云GPU环境](https://featurize.cn?s=d7ce99f842414bfcaea5662a97581bd1)：GPU RTX 3060、CUDA v11.2"
   ]
  },
  {
   "cell_type": "markdown",
   "id": "36c6b029-d74e-4500-b6e7-68924ec531ac",
   "metadata": {},
   "source": [
    "## 安装 ONNX、ONNX Runtime、ONNXSIM"
   ]
  },
  {
   "cell_type": "code",
   "execution_count": 11,
   "id": "2fa2ffd1-3748-4c7d-a06a-3ede9d435556",
   "metadata": {},
   "outputs": [
    {
     "name": "stdout",
     "output_type": "stream",
     "text": [
      "Looking in indexes: https://pypi.tuna.tsinghua.edu.cn/simple\n",
      "Requirement already satisfied: onnx in /environment/miniconda3/lib/python3.7/site-packages (1.14.0)\n",
      "Requirement already satisfied: onnxruntime in /environment/miniconda3/lib/python3.7/site-packages (1.14.1)\n",
      "Collecting onnxsim\n",
      "  Downloading https://pypi.tuna.tsinghua.edu.cn/packages/f2/85/6b5f5df74bff6f79080bc02541bf9db77c6be436a327336618e5ff08007f/onnxsim-0.4.31-cp37-cp37m-manylinux_2_17_x86_64.manylinux2014_x86_64.whl (2.2 MB)\n",
      "\u001b[2K     \u001b[90m━━━━━━━━━━━━━━━━━━━━━━━━━━━━━━━━━━━━━━━━\u001b[0m \u001b[32m2.2/2.2 MB\u001b[0m \u001b[31m132.8 MB/s\u001b[0m eta \u001b[36m0:00:00\u001b[0m\n",
      "\u001b[?25hRequirement already satisfied: numpy in /environment/miniconda3/lib/python3.7/site-packages (from onnx) (1.21.6)\n",
      "Collecting protobuf>=3.20.2 (from onnx)\n",
      "  Downloading https://pypi.tuna.tsinghua.edu.cn/packages/b9/64/32f6708e6dd4159b18ea757d907295ebe2d380009c7e08b953c5d161415e/protobuf-4.23.3-cp37-abi3-manylinux2014_x86_64.whl (304 kB)\n",
      "\u001b[2K     \u001b[90m━━━━━━━━━━━━━━━━━━━━━━━━━━━━━━━━━━━━━\u001b[0m \u001b[32m304.5/304.5 kB\u001b[0m \u001b[31m123.4 MB/s\u001b[0m eta \u001b[36m0:00:00\u001b[0m\n",
      "\u001b[?25hRequirement already satisfied: typing-extensions>=3.6.2.1 in /environment/miniconda3/lib/python3.7/site-packages (from onnx) (4.0.1)\n",
      "Requirement already satisfied: coloredlogs in /environment/miniconda3/lib/python3.7/site-packages (from onnxruntime) (15.0.1)\n",
      "Requirement already satisfied: flatbuffers in /environment/miniconda3/lib/python3.7/site-packages (from onnxruntime) (2.0)\n",
      "Requirement already satisfied: packaging in /environment/miniconda3/lib/python3.7/site-packages (from onnxruntime) (21.3)\n",
      "Requirement already satisfied: sympy in /environment/miniconda3/lib/python3.7/site-packages (from onnxruntime) (1.10.1)\n",
      "Collecting rich (from onnxsim)\n",
      "  Downloading https://pypi.tuna.tsinghua.edu.cn/packages/fc/1e/482e5eec0b89b593e81d78f819a9412849814e22225842b598908e7ac560/rich-13.4.2-py3-none-any.whl (239 kB)\n",
      "\u001b[2K     \u001b[90m━━━━━━━━━━━━━━━━━━━━━━━━━━━━━━━━━━━━━\u001b[0m \u001b[32m239.4/239.4 kB\u001b[0m \u001b[31m123.9 MB/s\u001b[0m eta \u001b[36m0:00:00\u001b[0m\n",
      "\u001b[?25hRequirement already satisfied: humanfriendly>=9.1 in /environment/miniconda3/lib/python3.7/site-packages (from coloredlogs->onnxruntime) (10.0)\n",
      "Requirement already satisfied: pyparsing!=3.0.5,>=2.0.2 in /environment/miniconda3/lib/python3.7/site-packages (from packaging->onnxruntime) (3.0.6)\n",
      "Collecting markdown-it-py>=2.2.0 (from rich->onnxsim)\n",
      "  Downloading https://pypi.tuna.tsinghua.edu.cn/packages/bf/25/2d88e8feee8e055d015343f9b86e370a1ccbec546f2865c98397aaef24af/markdown_it_py-2.2.0-py3-none-any.whl (84 kB)\n",
      "\u001b[2K     \u001b[90m━━━━━━━━━━━━━━━━━━━━━━━━━━━━━━━━━━━━━━━\u001b[0m \u001b[32m84.5/84.5 kB\u001b[0m \u001b[31m100.4 MB/s\u001b[0m eta \u001b[36m0:00:00\u001b[0m\n",
      "\u001b[?25hCollecting pygments<3.0.0,>=2.13.0 (from rich->onnxsim)\n",
      "  Downloading https://pypi.tuna.tsinghua.edu.cn/packages/34/a7/37c8d68532ba71549db4212cb036dbd6161b40e463aba336770e80c72f84/Pygments-2.15.1-py3-none-any.whl (1.1 MB)\n",
      "\u001b[2K     \u001b[90m━━━━━━━━━━━━━━━━━━━━━━━━━━━━━━━━━━━━━━━━\u001b[0m \u001b[32m1.1/1.1 MB\u001b[0m \u001b[31m136.4 MB/s\u001b[0m eta \u001b[36m0:00:00\u001b[0m\n",
      "\u001b[?25hRequirement already satisfied: mpmath>=0.19 in /environment/miniconda3/lib/python3.7/site-packages (from sympy->onnxruntime) (1.3.0)\n",
      "Collecting mdurl~=0.1 (from markdown-it-py>=2.2.0->rich->onnxsim)\n",
      "  Downloading https://pypi.tuna.tsinghua.edu.cn/packages/b3/38/89ba8ad64ae25be8de66a6d463314cf1eb366222074cfda9ee839c56a4b4/mdurl-0.1.2-py3-none-any.whl (10.0 kB)\n",
      "Installing collected packages: pygments, protobuf, mdurl, markdown-it-py, rich, onnxsim\n",
      "  Attempting uninstall: pygments\n",
      "    Found existing installation: Pygments 2.10.0\n",
      "    Uninstalling Pygments-2.10.0:\n",
      "      Successfully uninstalled Pygments-2.10.0\n",
      "  Attempting uninstall: protobuf\n",
      "    Found existing installation: protobuf 3.20.1\n",
      "    Uninstalling protobuf-3.20.1:\n",
      "      Successfully uninstalled protobuf-3.20.1\n",
      "\u001b[31mERROR: pip's dependency resolver does not currently take into account all the packages that are installed. This behaviour is the source of the following dependency conflicts.\n",
      "tf-models-official 2.11.5 requires Cython, which is not installed.\n",
      "tf-models-official 2.11.5 requires pycocotools, which is not installed.\n",
      "tf-models-official 2.11.5 requires sentencepiece, which is not installed.\n",
      "google-api-core 2.11.0 requires google-auth<3.0dev,>=2.14.1, but you have google-auth 2.3.3 which is incompatible.\n",
      "mediapipe 0.9.0.1 requires protobuf<4,>=3.11, but you have protobuf 4.23.3 which is incompatible.\n",
      "mediapipe-model-maker 0.1.0.2 requires tensorflow>=2.10, but you have tensorflow 2.7.0 which is incompatible.\n",
      "tensorflow-metadata 1.12.0 requires protobuf<4,>=3.13, but you have protobuf 4.23.3 which is incompatible.\n",
      "tensorflow-text 2.11.0 requires tensorflow<2.12,>=2.11.0; platform_machine != \"arm64\" or platform_system != \"Darwin\", but you have tensorflow 2.7.0 which is incompatible.\n",
      "tf-models-official 2.11.5 requires tensorflow~=2.11.0, but you have tensorflow 2.7.0 which is incompatible.\u001b[0m\u001b[31m\n",
      "\u001b[0mSuccessfully installed markdown-it-py-2.2.0 mdurl-0.1.2 onnxsim-0.4.31 protobuf-4.23.3 pygments-2.15.1 rich-13.4.2\n"
     ]
    }
   ],
   "source": [
    "!pip install onnx onnxruntime onnxsim -i https://pypi.tuna.tsinghua.edu.cn/simple"
   ]
  },
  {
   "cell_type": "markdown",
   "id": "47685389-705d-4263-8c68-0bb68751890a",
   "metadata": {},
   "source": [
    "## 安装其它第三方工具包"
   ]
  },
  {
   "cell_type": "code",
   "execution_count": 12,
   "id": "eefe2aba-e78e-43af-b84d-40ae632fbcea",
   "metadata": {},
   "outputs": [
    {
     "name": "stdout",
     "output_type": "stream",
     "text": [
      "Looking in indexes: https://pypi.tuna.tsinghua.edu.cn/simple\n",
      "Collecting protobuf==3.20.1\n",
      "  Downloading https://pypi.tuna.tsinghua.edu.cn/packages/21/9b/258771d72fd2cf27eed3cfea1fc957a12666ccde394b294ac563fca23f2d/protobuf-3.20.1-cp37-cp37m-manylinux_2_5_x86_64.manylinux1_x86_64.whl (1.0 MB)\n",
      "\u001b[2K     \u001b[90m━━━━━━━━━━━━━━━━━━━━━━━━━━━━━━━━━━━━━━━━\u001b[0m \u001b[32m1.0/1.0 MB\u001b[0m \u001b[31m136.3 MB/s\u001b[0m eta \u001b[36m0:00:00\u001b[0m\n",
      "\u001b[?25hInstalling collected packages: protobuf\n",
      "  Attempting uninstall: protobuf\n",
      "    Found existing installation: protobuf 4.23.3\n",
      "    Uninstalling protobuf-4.23.3:\n",
      "      Successfully uninstalled protobuf-4.23.3\n",
      "\u001b[31mERROR: pip's dependency resolver does not currently take into account all the packages that are installed. This behaviour is the source of the following dependency conflicts.\n",
      "tf-models-official 2.11.5 requires Cython, which is not installed.\n",
      "tf-models-official 2.11.5 requires pycocotools, which is not installed.\n",
      "tf-models-official 2.11.5 requires sentencepiece, which is not installed.\n",
      "google-api-core 2.11.0 requires google-auth<3.0dev,>=2.14.1, but you have google-auth 2.3.3 which is incompatible.\n",
      "google-api-core 2.11.0 requires protobuf!=3.20.0,!=3.20.1,!=4.21.0,!=4.21.1,!=4.21.2,!=4.21.3,!=4.21.4,!=4.21.5,<5.0.0dev,>=3.19.5, but you have protobuf 3.20.1 which is incompatible.\n",
      "googleapis-common-protos 1.59.0 requires protobuf!=3.20.0,!=3.20.1,!=4.21.1,!=4.21.2,!=4.21.3,!=4.21.4,!=4.21.5,<5.0.0dev,>=3.19.5, but you have protobuf 3.20.1 which is incompatible.\n",
      "mediapipe-model-maker 0.1.0.2 requires tensorflow>=2.10, but you have tensorflow 2.7.0 which is incompatible.\n",
      "tensorflow-text 2.11.0 requires tensorflow<2.12,>=2.11.0; platform_machine != \"arm64\" or platform_system != \"Darwin\", but you have tensorflow 2.7.0 which is incompatible.\n",
      "tf-models-official 2.11.5 requires tensorflow~=2.11.0, but you have tensorflow 2.7.0 which is incompatible.\n",
      "onnx 1.14.0 requires protobuf>=3.20.2, but you have protobuf 3.20.1 which is incompatible.\u001b[0m\u001b[31m\n",
      "\u001b[0mSuccessfully installed protobuf-3.20.1\n"
     ]
    }
   ],
   "source": [
    "!pip install protobuf==3.20.1 -i https://pypi.tuna.tsinghua.edu.cn/simple"
   ]
  },
  {
   "cell_type": "code",
   "execution_count": null,
   "id": "104d62e0-b084-4387-a703-9638caba0833",
   "metadata": {},
   "outputs": [],
   "source": [
    "# !pip install numpy pandas matplotlib tqdm opencv-python pillow -i https://pypi.tuna.tsinghua.edu.cn/simple"
   ]
  },
  {
   "cell_type": "markdown",
   "id": "a6eafe90-54e3-40f6-a708-1e06aec4d659",
   "metadata": {},
   "source": [
    "## 验证安装配置成功"
   ]
  },
  {
   "cell_type": "code",
   "execution_count": 2,
   "id": "a407b42a-48e7-4080-bba3-98b9fb583bf3",
   "metadata": {},
   "outputs": [
    {
     "name": "stdout",
     "output_type": "stream",
     "text": [
      "PyTorch 版本 1.10.0+cu113\n"
     ]
    }
   ],
   "source": [
    "import torch\n",
    "print('PyTorch 版本', torch.__version__)"
   ]
  },
  {
   "cell_type": "code",
   "execution_count": 3,
   "id": "423e21e8-53d0-494d-ba7f-710a8195d493",
   "metadata": {},
   "outputs": [
    {
     "name": "stdout",
     "output_type": "stream",
     "text": [
      "ONNX 版本 1.14.0\n"
     ]
    }
   ],
   "source": [
    "import onnx\n",
    "print('ONNX 版本', onnx.__version__)"
   ]
  },
  {
   "cell_type": "code",
   "execution_count": 4,
   "id": "c2b0db73-74d7-40ad-a88a-8d534a316db7",
   "metadata": {},
   "outputs": [
    {
     "name": "stdout",
     "output_type": "stream",
     "text": [
      "ONNX Runtime 版本 1.14.1\n"
     ]
    }
   ],
   "source": [
    "import onnxruntime as ort\n",
    "print('ONNX Runtime 版本', ort.__version__)"
   ]
  },
  {
   "cell_type": "code",
   "execution_count": null,
   "id": "98edd82b-498e-4554-95e5-fa5688762e1e",
   "metadata": {},
   "outputs": [],
   "source": []
  },
  {
   "cell_type": "code",
   "execution_count": null,
   "id": "10798242-d86a-4945-9e5a-f823db17e344",
   "metadata": {},
   "outputs": [],
   "source": []
  }
 ],
 "metadata": {
  "kernelspec": {
   "display_name": "Python 3 (ipykernel)",
   "language": "python",
   "name": "python3"
  },
  "language_info": {
   "codemirror_mode": {
    "name": "ipython",
    "version": 3
   },
   "file_extension": ".py",
   "mimetype": "text/x-python",
   "name": "python",
   "nbconvert_exporter": "python",
   "pygments_lexer": "ipython3",
   "version": "3.7.10"
  }
 },
 "nbformat": 4,
 "nbformat_minor": 5
}
